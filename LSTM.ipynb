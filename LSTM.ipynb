{
  "nbformat": 4,
  "nbformat_minor": 0,
  "metadata": {
    "colab": {
      "name": "LSTM.ipynb",
      "version": "0.3.2",
      "provenance": []
    },
    "kernelspec": {
      "name": "python3",
      "display_name": "Python 3"
    }
  },
  "cells": [
    {
      "metadata": {
        "id": "MrG49B7msICz",
        "colab_type": "code",
        "colab": {
          "base_uri": "https://localhost:8080/",
          "height": 51
        },
        "outputId": "b4eb56c7-710a-4413-c712-ca46dbe10fd8"
      },
      "cell_type": "code",
      "source": [
        "!pip install -U -q PyDrive\n",
        "from pydrive.auth import GoogleAuth\n",
        "from pydrive.drive import GoogleDrive\n",
        "from google.colab import auth\n",
        "from oauth2client.client import GoogleCredentials"
      ],
      "execution_count": 1,
      "outputs": [
        {
          "output_type": "stream",
          "text": [
            "\u001b[?25l\r\u001b[K    1% |▎                               | 10kB 21.4MB/s eta 0:00:01\r\u001b[K    2% |▋                               | 20kB 3.3MB/s eta 0:00:01\r\u001b[K    3% |█                               | 30kB 4.7MB/s eta 0:00:01\r\u001b[K    4% |█▎                              | 40kB 3.0MB/s eta 0:00:01\r\u001b[K    5% |█▋                              | 51kB 3.7MB/s eta 0:00:01\r\u001b[K    6% |██                              | 61kB 4.4MB/s eta 0:00:01\r\u001b[K    7% |██▎                             | 71kB 5.0MB/s eta 0:00:01\r\u001b[K    8% |██▋                             | 81kB 5.6MB/s eta 0:00:01\r\u001b[K    9% |███                             | 92kB 6.2MB/s eta 0:00:01\r\u001b[K    10% |███▎                            | 102kB 4.9MB/s eta 0:00:01\r\u001b[K    11% |███▋                            | 112kB 5.0MB/s eta 0:00:01\r\u001b[K    12% |████                            | 122kB 6.9MB/s eta 0:00:01\r\u001b[K    13% |████▎                           | 133kB 6.8MB/s eta 0:00:01\r\u001b[K    14% |████▋                           | 143kB 12.3MB/s eta 0:00:01\r\u001b[K    15% |█████                           | 153kB 12.4MB/s eta 0:00:01\r\u001b[K    16% |█████▎                          | 163kB 12.4MB/s eta 0:00:01\r\u001b[K    17% |█████▋                          | 174kB 12.6MB/s eta 0:00:01\r\u001b[K    18% |██████                          | 184kB 12.6MB/s eta 0:00:01\r\u001b[K    19% |██████▎                         | 194kB 12.7MB/s eta 0:00:01\r\u001b[K    20% |██████▋                         | 204kB 13.7MB/s eta 0:00:01\r\u001b[K    21% |███████                         | 215kB 13.7MB/s eta 0:00:01\r\u001b[K    22% |███████▎                        | 225kB 13.8MB/s eta 0:00:01\r\u001b[K    23% |███████▋                        | 235kB 14.1MB/s eta 0:00:01\r\u001b[K    24% |████████                        | 245kB 14.1MB/s eta 0:00:01\r\u001b[K    25% |████████▎                       | 256kB 14.2MB/s eta 0:00:01\r\u001b[K    26% |████████▋                       | 266kB 13.7MB/s eta 0:00:01\r\u001b[K    27% |█████████                       | 276kB 13.8MB/s eta 0:00:01\r\u001b[K    29% |█████████▎                      | 286kB 13.9MB/s eta 0:00:01\r\u001b[K    30% |█████████▋                      | 296kB 13.8MB/s eta 0:00:01\r\u001b[K    31% |██████████                      | 307kB 45.0MB/s eta 0:00:01\r\u001b[K    32% |██████████▎                     | 317kB 46.6MB/s eta 0:00:01\r\u001b[K    33% |██████████▋                     | 327kB 45.1MB/s eta 0:00:01\r\u001b[K    34% |███████████                     | 337kB 46.1MB/s eta 0:00:01\r\u001b[K    35% |███████████▎                    | 348kB 40.3MB/s eta 0:00:01\r\u001b[K    36% |███████████▋                    | 358kB 38.7MB/s eta 0:00:01\r\u001b[K    37% |████████████                    | 368kB 41.6MB/s eta 0:00:01\r\u001b[K    38% |████████████▎                   | 378kB 40.0MB/s eta 0:00:01\r\u001b[K    39% |████████████▋                   | 389kB 38.4MB/s eta 0:00:01\r\u001b[K    40% |█████████████                   | 399kB 21.0MB/s eta 0:00:01\r\u001b[K    41% |█████████████▎                  | 409kB 20.6MB/s eta 0:00:01\r\u001b[K    42% |█████████████▋                  | 419kB 20.4MB/s eta 0:00:01\r\u001b[K    43% |██████████████                  | 430kB 20.5MB/s eta 0:00:01\r\u001b[K    44% |██████████████▎                 | 440kB 20.4MB/s eta 0:00:01\r\u001b[K    45% |██████████████▋                 | 450kB 20.9MB/s eta 0:00:01\r\u001b[K    46% |███████████████                 | 460kB 21.1MB/s eta 0:00:01\r\u001b[K    47% |███████████████▎                | 471kB 21.5MB/s eta 0:00:01\r\u001b[K    48% |███████████████▋                | 481kB 22.0MB/s eta 0:00:01\r\u001b[K    49% |████████████████                | 491kB 22.5MB/s eta 0:00:01\r\u001b[K    50% |████████████████▎               | 501kB 44.0MB/s eta 0:00:01\r\u001b[K    51% |████████████████▋               | 512kB 42.1MB/s eta 0:00:01\r\u001b[K    52% |█████████████████               | 522kB 43.5MB/s eta 0:00:01\r\u001b[K    53% |█████████████████▎              | 532kB 44.7MB/s eta 0:00:01\r\u001b[K    54% |█████████████████▋              | 542kB 44.6MB/s eta 0:00:01\r\u001b[K    55% |██████████████████              | 552kB 49.4MB/s eta 0:00:01\r\u001b[K    57% |██████████████████▎             | 563kB 50.0MB/s eta 0:00:01\r\u001b[K    58% |██████████████████▋             | 573kB 49.5MB/s eta 0:00:01\r\u001b[K    59% |███████████████████             | 583kB 49.8MB/s eta 0:00:01\r\u001b[K    60% |███████████████████▎            | 593kB 50.0MB/s eta 0:00:01\r\u001b[K    61% |███████████████████▋            | 604kB 50.4MB/s eta 0:00:01\r\u001b[K    62% |████████████████████            | 614kB 54.6MB/s eta 0:00:01\r\u001b[K    63% |████████████████████▎           | 624kB 24.4MB/s eta 0:00:01\r\u001b[K    64% |████████████████████▋           | 634kB 24.2MB/s eta 0:00:01\r\u001b[K    65% |█████████████████████           | 645kB 24.0MB/s eta 0:00:01\r\u001b[K    66% |█████████████████████▎          | 655kB 23.7MB/s eta 0:00:01\r\u001b[K    67% |█████████████████████▋          | 665kB 21.3MB/s eta 0:00:01\r\u001b[K    68% |██████████████████████          | 675kB 20.7MB/s eta 0:00:01\r\u001b[K    69% |██████████████████████▎         | 686kB 20.7MB/s eta 0:00:01\r\u001b[K    70% |██████████████████████▋         | 696kB 20.7MB/s eta 0:00:01\r\u001b[K    71% |███████████████████████         | 706kB 20.6MB/s eta 0:00:01\r\u001b[K    72% |███████████████████████▎        | 716kB 20.7MB/s eta 0:00:01\r\u001b[K    73% |███████████████████████▋        | 727kB 38.4MB/s eta 0:00:01\r\u001b[K    74% |████████████████████████        | 737kB 38.0MB/s eta 0:00:01\r\u001b[K    75% |████████████████████████▎       | 747kB 38.8MB/s eta 0:00:01\r\u001b[K    76% |████████████████████████▋       | 757kB 39.3MB/s eta 0:00:01\r\u001b[K    77% |████████████████████████▉       | 768kB 48.7MB/s eta 0:00:01\r\u001b[K    78% |█████████████████████████▏      | 778kB 52.3MB/s eta 0:00:01\r\u001b[K    79% |█████████████████████████▌      | 788kB 51.5MB/s eta 0:00:01\r\u001b[K    80% |█████████████████████████▉      | 798kB 51.3MB/s eta 0:00:01\r\u001b[K    81% |██████████████████████████▏     | 808kB 50.3MB/s eta 0:00:01\r\u001b[K    82% |██████████████████████████▌     | 819kB 49.6MB/s eta 0:00:01\r\u001b[K    83% |██████████████████████████▉     | 829kB 50.3MB/s eta 0:00:01\r\u001b[K    85% |███████████████████████████▏    | 839kB 51.5MB/s eta 0:00:01\r\u001b[K    86% |███████████████████████████▌    | 849kB 51.5MB/s eta 0:00:01\r\u001b[K    87% |███████████████████████████▉    | 860kB 46.8MB/s eta 0:00:01\r\u001b[K    88% |████████████████████████████▏   | 870kB 46.4MB/s eta 0:00:01\r\u001b[K    89% |████████████████████████████▌   | 880kB 47.3MB/s eta 0:00:01\r\u001b[K    90% |████████████████████████████▉   | 890kB 48.0MB/s eta 0:00:01\r\u001b[K    91% |█████████████████████████████▏  | 901kB 48.5MB/s eta 0:00:01\r\u001b[K    92% |█████████████████████████████▌  | 911kB 49.4MB/s eta 0:00:01\r\u001b[K    93% |█████████████████████████████▉  | 921kB 48.9MB/s eta 0:00:01\r\u001b[K    94% |██████████████████████████████▏ | 931kB 49.6MB/s eta 0:00:01\r\u001b[K    95% |██████████████████████████████▌ | 942kB 49.8MB/s eta 0:00:01\r\u001b[K    96% |██████████████████████████████▉ | 952kB 49.6MB/s eta 0:00:01\r\u001b[K    97% |███████████████████████████████▏| 962kB 55.6MB/s eta 0:00:01\r\u001b[K    98% |███████████████████████████████▌| 972kB 55.5MB/s eta 0:00:01\r\u001b[K    99% |███████████████████████████████▉| 983kB 53.3MB/s eta 0:00:01\r\u001b[K    100% |████████████████████████████████| 993kB 20.0MB/s \n",
            "\u001b[?25h  Building wheel for PyDrive (setup.py) ... \u001b[?25ldone\n",
            "\u001b[?25h"
          ],
          "name": "stdout"
        }
      ]
    },
    {
      "metadata": {
        "id": "MAdbJo5lsRnu",
        "colab_type": "code",
        "colab": {}
      },
      "cell_type": "code",
      "source": [
        "auth.authenticate_user()\n",
        "gauth = GoogleAuth()\n",
        "gauth.credentials = GoogleCredentials.get_application_default()\n",
        "drive = GoogleDrive(gauth)"
      ],
      "execution_count": 0,
      "outputs": []
    },
    {
      "metadata": {
        "id": "IiSE64qrsd-1",
        "colab_type": "code",
        "colab": {}
      },
      "cell_type": "code",
      "source": [
        "id='1RlXPcm035izLrJypwPlGITo2L2RoO6oz'\n",
        "downloaded = drive.CreateFile({'id':id}) \n",
        "downloaded.GetContentFile('ner_dataset.csv')  \n"
      ],
      "execution_count": 0,
      "outputs": []
    },
    {
      "metadata": {
        "id": "TpP8nhXMtBsT",
        "colab_type": "code",
        "colab": {}
      },
      "cell_type": "code",
      "source": [
        "import pandas as pd\n",
        "import numpy as np\n",
        "\n",
        "data = pd.read_csv(\"ner_dataset.csv\", encoding=\"latin1\")\n",
        "data = data.fillna(method=\"ffill\")"
      ],
      "execution_count": 0,
      "outputs": []
    },
    {
      "metadata": {
        "id": "3s3saR__tIFh",
        "colab_type": "code",
        "colab": {
          "base_uri": "https://localhost:8080/",
          "height": 359
        },
        "outputId": "6134e43b-704a-4eba-ebdc-8cb0013e1379"
      },
      "cell_type": "code",
      "source": [
        "data.tail(10)"
      ],
      "execution_count": 7,
      "outputs": [
        {
          "output_type": "execute_result",
          "data": {
            "text/html": [
              "<div>\n",
              "<style scoped>\n",
              "    .dataframe tbody tr th:only-of-type {\n",
              "        vertical-align: middle;\n",
              "    }\n",
              "\n",
              "    .dataframe tbody tr th {\n",
              "        vertical-align: top;\n",
              "    }\n",
              "\n",
              "    .dataframe thead th {\n",
              "        text-align: right;\n",
              "    }\n",
              "</style>\n",
              "<table border=\"1\" class=\"dataframe\">\n",
              "  <thead>\n",
              "    <tr style=\"text-align: right;\">\n",
              "      <th></th>\n",
              "      <th>Sentence #</th>\n",
              "      <th>Word</th>\n",
              "      <th>POS</th>\n",
              "      <th>Tag</th>\n",
              "    </tr>\n",
              "  </thead>\n",
              "  <tbody>\n",
              "    <tr>\n",
              "      <th>1048565</th>\n",
              "      <td>Sentence: 47958</td>\n",
              "      <td>impact</td>\n",
              "      <td>NN</td>\n",
              "      <td>O</td>\n",
              "    </tr>\n",
              "    <tr>\n",
              "      <th>1048566</th>\n",
              "      <td>Sentence: 47958</td>\n",
              "      <td>.</td>\n",
              "      <td>.</td>\n",
              "      <td>O</td>\n",
              "    </tr>\n",
              "    <tr>\n",
              "      <th>1048567</th>\n",
              "      <td>Sentence: 47959</td>\n",
              "      <td>Indian</td>\n",
              "      <td>JJ</td>\n",
              "      <td>B-gpe</td>\n",
              "    </tr>\n",
              "    <tr>\n",
              "      <th>1048568</th>\n",
              "      <td>Sentence: 47959</td>\n",
              "      <td>forces</td>\n",
              "      <td>NNS</td>\n",
              "      <td>O</td>\n",
              "    </tr>\n",
              "    <tr>\n",
              "      <th>1048569</th>\n",
              "      <td>Sentence: 47959</td>\n",
              "      <td>said</td>\n",
              "      <td>VBD</td>\n",
              "      <td>O</td>\n",
              "    </tr>\n",
              "    <tr>\n",
              "      <th>1048570</th>\n",
              "      <td>Sentence: 47959</td>\n",
              "      <td>they</td>\n",
              "      <td>PRP</td>\n",
              "      <td>O</td>\n",
              "    </tr>\n",
              "    <tr>\n",
              "      <th>1048571</th>\n",
              "      <td>Sentence: 47959</td>\n",
              "      <td>responded</td>\n",
              "      <td>VBD</td>\n",
              "      <td>O</td>\n",
              "    </tr>\n",
              "    <tr>\n",
              "      <th>1048572</th>\n",
              "      <td>Sentence: 47959</td>\n",
              "      <td>to</td>\n",
              "      <td>TO</td>\n",
              "      <td>O</td>\n",
              "    </tr>\n",
              "    <tr>\n",
              "      <th>1048573</th>\n",
              "      <td>Sentence: 47959</td>\n",
              "      <td>the</td>\n",
              "      <td>DT</td>\n",
              "      <td>O</td>\n",
              "    </tr>\n",
              "    <tr>\n",
              "      <th>1048574</th>\n",
              "      <td>Sentence: 47959</td>\n",
              "      <td>attack</td>\n",
              "      <td>NN</td>\n",
              "      <td>O</td>\n",
              "    </tr>\n",
              "  </tbody>\n",
              "</table>\n",
              "</div>"
            ],
            "text/plain": [
              "              Sentence #       Word  POS    Tag\n",
              "1048565  Sentence: 47958     impact   NN      O\n",
              "1048566  Sentence: 47958          .    .      O\n",
              "1048567  Sentence: 47959     Indian   JJ  B-gpe\n",
              "1048568  Sentence: 47959     forces  NNS      O\n",
              "1048569  Sentence: 47959       said  VBD      O\n",
              "1048570  Sentence: 47959       they  PRP      O\n",
              "1048571  Sentence: 47959  responded  VBD      O\n",
              "1048572  Sentence: 47959         to   TO      O\n",
              "1048573  Sentence: 47959        the   DT      O\n",
              "1048574  Sentence: 47959     attack   NN      O"
            ]
          },
          "metadata": {
            "tags": []
          },
          "execution_count": 7
        }
      ]
    },
    {
      "metadata": {
        "id": "vlhStupZtKhx",
        "colab_type": "code",
        "colab": {
          "base_uri": "https://localhost:8080/",
          "height": 34
        },
        "outputId": "62e6056a-d8ca-4e7b-9d57-1405a1ee3a1d"
      },
      "cell_type": "code",
      "source": [
        "words = list(set(data[\"Word\"].values))\n",
        "words.append(\"ENDPAD\")\n",
        "n_words = len(words); n_words"
      ],
      "execution_count": 9,
      "outputs": [
        {
          "output_type": "execute_result",
          "data": {
            "text/plain": [
              "35179"
            ]
          },
          "metadata": {
            "tags": []
          },
          "execution_count": 9
        }
      ]
    },
    {
      "metadata": {
        "id": "uIp6IWRktTJl",
        "colab_type": "code",
        "colab": {
          "base_uri": "https://localhost:8080/",
          "height": 34
        },
        "outputId": "82f6f996-0509-4449-fe32-f7569a9b72ae"
      },
      "cell_type": "code",
      "source": [
        "tags = list(set(data[\"Tag\"].values))\n",
        "n_tags = len(tags); n_tags"
      ],
      "execution_count": 10,
      "outputs": [
        {
          "output_type": "execute_result",
          "data": {
            "text/plain": [
              "17"
            ]
          },
          "metadata": {
            "tags": []
          },
          "execution_count": 10
        }
      ]
    },
    {
      "metadata": {
        "id": "FfpvancOtZGS",
        "colab_type": "code",
        "colab": {}
      },
      "cell_type": "code",
      "source": [
        "class SentenceGetter(object):\n",
        "    \n",
        "    def __init__(self, data):\n",
        "        self.n_sent = 1\n",
        "        self.data = data\n",
        "        self.empty = False\n",
        "        agg_func = lambda s: [(w, p, t) for w, p, t in zip(s[\"Word\"].values.tolist(),\n",
        "                                                           s[\"POS\"].values.tolist(),\n",
        "                                                           s[\"Tag\"].values.tolist())]\n",
        "        self.grouped = self.data.groupby(\"Sentence #\").apply(agg_func)\n",
        "        self.sentences = [s for s in self.grouped]\n",
        "    \n",
        "    def get_next(self):\n",
        "        try:\n",
        "            s = self.grouped[\"Sentence: {}\".format(self.n_sent)]\n",
        "            self.n_sent += 1\n",
        "            return s\n",
        "        except:\n",
        "            return None"
      ],
      "execution_count": 0,
      "outputs": []
    },
    {
      "metadata": {
        "id": "7MnxT_kLtbMr",
        "colab_type": "code",
        "colab": {
          "base_uri": "https://localhost:8080/",
          "height": 54
        },
        "outputId": "dd64e41a-aabb-4979-f252-c02e9ac1f435"
      },
      "cell_type": "code",
      "source": [
        "getter = SentenceGetter(data)\n",
        "sent = getter.get_next()\n",
        "print(sent)"
      ],
      "execution_count": 13,
      "outputs": [
        {
          "output_type": "stream",
          "text": [
            "[('Thousands', 'NNS', 'O'), ('of', 'IN', 'O'), ('demonstrators', 'NNS', 'O'), ('have', 'VBP', 'O'), ('marched', 'VBN', 'O'), ('through', 'IN', 'O'), ('London', 'NNP', 'B-geo'), ('to', 'TO', 'O'), ('protest', 'VB', 'O'), ('the', 'DT', 'O'), ('war', 'NN', 'O'), ('in', 'IN', 'O'), ('Iraq', 'NNP', 'B-geo'), ('and', 'CC', 'O'), ('demand', 'VB', 'O'), ('the', 'DT', 'O'), ('withdrawal', 'NN', 'O'), ('of', 'IN', 'O'), ('British', 'JJ', 'B-gpe'), ('troops', 'NNS', 'O'), ('from', 'IN', 'O'), ('that', 'DT', 'O'), ('country', 'NN', 'O'), ('.', '.', 'O')]\n"
          ],
          "name": "stdout"
        }
      ]
    },
    {
      "metadata": {
        "id": "FpF2MnuGtm65",
        "colab_type": "code",
        "colab": {}
      },
      "cell_type": "code",
      "source": [
        "sentences = getter.sentences"
      ],
      "execution_count": 0,
      "outputs": []
    },
    {
      "metadata": {
        "id": "kjqoY9TUtzlN",
        "colab_type": "code",
        "colab": {}
      },
      "cell_type": "code",
      "source": [
        "max_len = 50\n",
        "word2idx = {w: i for i, w in enumerate(words)}\n",
        "tag2idx = {t: i for i, t in enumerate(tags)}"
      ],
      "execution_count": 0,
      "outputs": []
    },
    {
      "metadata": {
        "id": "NSrG5e2st2AZ",
        "colab_type": "code",
        "colab": {
          "base_uri": "https://localhost:8080/",
          "height": 34
        },
        "outputId": "76a7b5b7-f327-43b3-d934-f9750ff10e86"
      },
      "cell_type": "code",
      "source": [
        "word2idx[\"Obama\"]"
      ],
      "execution_count": 16,
      "outputs": [
        {
          "output_type": "execute_result",
          "data": {
            "text/plain": [
              "26134"
            ]
          },
          "metadata": {
            "tags": []
          },
          "execution_count": 16
        }
      ]
    },
    {
      "metadata": {
        "id": "IlXz826it8NA",
        "colab_type": "code",
        "colab": {
          "base_uri": "https://localhost:8080/",
          "height": 34
        },
        "outputId": "b0637e31-e696-4d36-bdc1-ae26e0c46bd2"
      },
      "cell_type": "code",
      "source": [
        "tag2idx[\"B-geo\"]"
      ],
      "execution_count": 18,
      "outputs": [
        {
          "output_type": "execute_result",
          "data": {
            "text/plain": [
              "6"
            ]
          },
          "metadata": {
            "tags": []
          },
          "execution_count": 18
        }
      ]
    },
    {
      "metadata": {
        "id": "wXpyuC1cuHXY",
        "colab_type": "code",
        "colab": {
          "base_uri": "https://localhost:8080/",
          "height": 34
        },
        "outputId": "c1c88c70-ee67-4299-f388-cf1ea22bcefa"
      },
      "cell_type": "code",
      "source": [
        "from keras.preprocessing.sequence import pad_sequences\n",
        "X = [[word2idx[w[0]] for w in s] for s in sentences]"
      ],
      "execution_count": 19,
      "outputs": [
        {
          "output_type": "stream",
          "text": [
            "Using TensorFlow backend.\n"
          ],
          "name": "stderr"
        }
      ]
    },
    {
      "metadata": {
        "id": "6T1ygbTRuKRX",
        "colab_type": "code",
        "colab": {}
      },
      "cell_type": "code",
      "source": [
        "X = pad_sequences(maxlen=max_len, sequences=X, padding=\"post\", value=n_words - 1)"
      ],
      "execution_count": 0,
      "outputs": []
    },
    {
      "metadata": {
        "id": "8oYPVBk0uLxE",
        "colab_type": "code",
        "colab": {
          "base_uri": "https://localhost:8080/",
          "height": 119
        },
        "outputId": "98e75d6c-8e51-461d-9cea-be793dac9242"
      },
      "cell_type": "code",
      "source": [
        "X[1]"
      ],
      "execution_count": 21,
      "outputs": [
        {
          "output_type": "execute_result",
          "data": {
            "text/plain": [
              "array([13917, 24769, 30615, 20293,  5111, 20653, 15383, 17253, 20653,\n",
              "       24760, 30735,  7699,  6518, 10403,   991,  3082, 32113, 19511,\n",
              "       14824, 20133, 23732,  4682, 27353, 16575, 11650, 35178, 35178,\n",
              "       35178, 35178, 35178, 35178, 35178, 35178, 35178, 35178, 35178,\n",
              "       35178, 35178, 35178, 35178, 35178, 35178, 35178, 35178, 35178,\n",
              "       35178, 35178, 35178, 35178, 35178], dtype=int32)"
            ]
          },
          "metadata": {
            "tags": []
          },
          "execution_count": 21
        }
      ]
    },
    {
      "metadata": {
        "id": "giymS043uPNc",
        "colab_type": "code",
        "colab": {}
      },
      "cell_type": "code",
      "source": [
        "y = [[tag2idx[w[2]] for w in s] for s in sentences]"
      ],
      "execution_count": 0,
      "outputs": []
    },
    {
      "metadata": {
        "id": "ukZXAKS1uRip",
        "colab_type": "code",
        "colab": {}
      },
      "cell_type": "code",
      "source": [
        "y = pad_sequences(maxlen=max_len, sequences=y, padding=\"post\", value=tag2idx[\"O\"])"
      ],
      "execution_count": 0,
      "outputs": []
    },
    {
      "metadata": {
        "id": "6cGIVFfBuXtT",
        "colab_type": "code",
        "colab": {}
      },
      "cell_type": "code",
      "source": [
        "from keras.utils import to_categorical\n"
      ],
      "execution_count": 0,
      "outputs": []
    },
    {
      "metadata": {
        "id": "AmpreF8Xubj8",
        "colab_type": "code",
        "colab": {}
      },
      "cell_type": "code",
      "source": [
        "y = [to_categorical(i, num_classes=n_tags) for i in y]"
      ],
      "execution_count": 0,
      "outputs": []
    },
    {
      "metadata": {
        "id": "7tchrdFpuepT",
        "colab_type": "code",
        "colab": {}
      },
      "cell_type": "code",
      "source": [
        "from sklearn.model_selection import train_test_split\n",
        "X_tr, X_te, y_tr, y_te = train_test_split(X, y, test_size=0.1)"
      ],
      "execution_count": 0,
      "outputs": []
    },
    {
      "metadata": {
        "id": "yn9kGCGDunZB",
        "colab_type": "code",
        "colab": {}
      },
      "cell_type": "code",
      "source": [
        "from keras.models import Model, Input\n",
        "from keras.layers import LSTM, Embedding, Dense, TimeDistributed, Dropout, Bidirectional\n"
      ],
      "execution_count": 0,
      "outputs": []
    },
    {
      "metadata": {
        "id": "2Z8AD_0vuowi",
        "colab_type": "code",
        "colab": {
          "base_uri": "https://localhost:8080/",
          "height": 139
        },
        "outputId": "58aaffeb-6ef9-4540-dfe4-a67ac9399b1f"
      },
      "cell_type": "code",
      "source": [
        "input = Input(shape=(max_len,))\n",
        "model = Embedding(input_dim=n_words, output_dim=50, input_length=max_len)(input)\n",
        "model = Dropout(0.1)(model)\n",
        "model = Bidirectional(LSTM(units=100, return_sequences=True, recurrent_dropout=0.1))(model)\n",
        "out = TimeDistributed(Dense(n_tags, activation=\"softmax\"))(model)  "
      ],
      "execution_count": 28,
      "outputs": [
        {
          "output_type": "stream",
          "text": [
            "WARNING:tensorflow:From /usr/local/lib/python3.6/dist-packages/tensorflow/python/framework/op_def_library.py:263: colocate_with (from tensorflow.python.framework.ops) is deprecated and will be removed in a future version.\n",
            "Instructions for updating:\n",
            "Colocations handled automatically by placer.\n",
            "WARNING:tensorflow:From /usr/local/lib/python3.6/dist-packages/keras/backend/tensorflow_backend.py:3445: calling dropout (from tensorflow.python.ops.nn_ops) with keep_prob is deprecated and will be removed in a future version.\n",
            "Instructions for updating:\n",
            "Please use `rate` instead of `keep_prob`. Rate should be set to `rate = 1 - keep_prob`.\n"
          ],
          "name": "stdout"
        }
      ]
    },
    {
      "metadata": {
        "id": "gOJrz6pCu0DK",
        "colab_type": "code",
        "colab": {}
      },
      "cell_type": "code",
      "source": [
        "model = Model(input, out)"
      ],
      "execution_count": 0,
      "outputs": []
    },
    {
      "metadata": {
        "id": "rNFuv5U1u2dv",
        "colab_type": "code",
        "colab": {}
      },
      "cell_type": "code",
      "source": [
        "model.compile(optimizer=\"rmsprop\", loss=\"categorical_crossentropy\", metrics=[\"accuracy\"])"
      ],
      "execution_count": 0,
      "outputs": []
    },
    {
      "metadata": {
        "id": "vLI2MDwou5VE",
        "colab_type": "code",
        "colab": {
          "base_uri": "https://localhost:8080/",
          "height": 275
        },
        "outputId": "5f0a933a-d191-4f79-b1df-6e79ad03072e"
      },
      "cell_type": "code",
      "source": [
        "history = model.fit(X_tr, np.array(y_tr), batch_size=32, epochs=5, validation_split=0.1, verbose=1)"
      ],
      "execution_count": 31,
      "outputs": [
        {
          "output_type": "stream",
          "text": [
            "WARNING:tensorflow:From /usr/local/lib/python3.6/dist-packages/tensorflow/python/ops/math_ops.py:3066: to_int32 (from tensorflow.python.ops.math_ops) is deprecated and will be removed in a future version.\n",
            "Instructions for updating:\n",
            "Use tf.cast instead.\n",
            "Train on 38846 samples, validate on 4317 samples\n",
            "Epoch 1/5\n",
            "38846/38846 [==============================] - 159s 4ms/step - loss: 0.1385 - acc: 0.9649 - val_loss: 0.0666 - val_acc: 0.9811\n",
            "Epoch 2/5\n",
            "38846/38846 [==============================] - 158s 4ms/step - loss: 0.0543 - acc: 0.9842 - val_loss: 0.0540 - val_acc: 0.9844\n",
            "Epoch 3/5\n",
            "38846/38846 [==============================] - 158s 4ms/step - loss: 0.0456 - acc: 0.9866 - val_loss: 0.0506 - val_acc: 0.9852\n",
            "Epoch 4/5\n",
            "38846/38846 [==============================] - 158s 4ms/step - loss: 0.0411 - acc: 0.9879 - val_loss: 0.0493 - val_acc: 0.9857\n",
            "Epoch 5/5\n",
            "38846/38846 [==============================] - 158s 4ms/step - loss: 0.0382 - acc: 0.9887 - val_loss: 0.0481 - val_acc: 0.9859\n"
          ],
          "name": "stdout"
        }
      ]
    },
    {
      "metadata": {
        "id": "wjmSjSF_yJEC",
        "colab_type": "code",
        "colab": {}
      },
      "cell_type": "code",
      "source": [
        "test_sentence = [\"Hawking\", \"was\", \"a\", \"Fellow\", \"of\", \"the\", \"Royal\", \"Society\", \",\", \"a\", \"lifetime\", \"member\",\n",
        "                 \"of\", \"the\", \"Pontifical\", \"Academy\", \"of\", \"Sciences\", \",\", \"and\", \"a\", \"recipient\", \"of\",\n",
        "                 \"the\", \"Presidential\", \"Medal\", \"of\", \"Freedom\", \",\", \"the\", \"highest\", \"civilian\", \"award\",\n",
        "                 \"in\", \"the\", \"United\", \"States\", \".\"]\n",
        "x_test_sent = pad_sequences(sequences=[[word2idx.get(w, 0) for w in test_sentence]],\n",
        "                            padding=\"post\", value=0, maxlen=max_len)"
      ],
      "execution_count": 0,
      "outputs": []
    },
    {
      "metadata": {
        "id": "BnKACORW0SJW",
        "colab_type": "code",
        "colab": {
          "base_uri": "https://localhost:8080/",
          "height": 697
        },
        "outputId": "c2cfc270-1a77-463d-dbeb-4ee6af032b12"
      },
      "cell_type": "code",
      "source": [
        "p = model.predict(np.array([x_test_sent[0]]))\n",
        "p = np.argmax(p, axis=-1)\n",
        "print(\"{:15}||{}\".format(\"Word\", \"Prediction\"))\n",
        "print(30 * \"=\")\n",
        "for w, pred in zip(test_sentence, p[0]):\n",
        "    print(\"{:15}: {:5}\".format(w, tags[pred]))"
      ],
      "execution_count": 47,
      "outputs": [
        {
          "output_type": "stream",
          "text": [
            "Word           ||Prediction\n",
            "==============================\n",
            "Hawking        : B-per\n",
            "was            : O    \n",
            "a              : O    \n",
            "Fellow         : O    \n",
            "of             : O    \n",
            "the            : O    \n",
            "Royal          : B-org\n",
            "Society        : I-org\n",
            ",              : O    \n",
            "a              : O    \n",
            "lifetime       : O    \n",
            "member         : O    \n",
            "of             : O    \n",
            "the            : O    \n",
            "Pontifical     : B-org\n",
            "Academy        : I-org\n",
            "of             : I-org\n",
            "Sciences       : I-org\n",
            ",              : O    \n",
            "and            : O    \n",
            "a              : O    \n",
            "recipient      : O    \n",
            "of             : O    \n",
            "the            : O    \n",
            "Presidential   : O    \n",
            "Medal          : I-org\n",
            "of             : O    \n",
            "Freedom        : I-org\n",
            ",              : O    \n",
            "the            : O    \n",
            "highest        : O    \n",
            "civilian       : O    \n",
            "award          : O    \n",
            "in             : O    \n",
            "the            : O    \n",
            "United         : B-geo\n",
            "States         : I-geo\n",
            ".              : O    \n"
          ],
          "name": "stdout"
        }
      ]
    }
  ]
}