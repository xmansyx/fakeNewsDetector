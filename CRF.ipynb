{
  "nbformat": 4,
  "nbformat_minor": 0,
  "metadata": {
    "colab": {
      "name": "CRF.ipynb",
      "version": "0.3.2",
      "provenance": [],
      "collapsed_sections": [],
      "include_colab_link": true
    },
    "kernelspec": {
      "name": "python3",
      "display_name": "Python 3"
    }
  },
  "cells": [
    {
      "cell_type": "markdown",
      "metadata": {
        "id": "view-in-github",
        "colab_type": "text"
      },
      "source": [
        "<a href=\"https://colab.research.google.com/github/xmansyx/namedEntityRecognizer/blob/master/CRF.ipynb\" target=\"_parent\"><img src=\"https://colab.research.google.com/assets/colab-badge.svg\" alt=\"Open In Colab\"/></a>"
      ]
    },
    {
      "metadata": {
        "id": "s_IceF7T_VSi",
        "colab_type": "code",
        "colab": {
          "base_uri": "https://localhost:8080/",
          "height": 211
        },
        "outputId": "ec83bcff-deb9-415b-f7a0-fb6b545b9032"
      },
      "cell_type": "code",
      "source": [
        "pip install sklearn-crfsuite\n"
      ],
      "execution_count": 5,
      "outputs": [
        {
          "output_type": "stream",
          "text": [
            "Collecting sklearn-crfsuite\n",
            "  Downloading https://files.pythonhosted.org/packages/25/74/5b7befa513482e6dee1f3dd68171a6c9dfc14c0eaa00f885ffeba54fe9b0/sklearn_crfsuite-0.3.6-py2.py3-none-any.whl\n",
            "Collecting python-crfsuite>=0.8.3 (from sklearn-crfsuite)\n",
            "\u001b[?25l  Downloading https://files.pythonhosted.org/packages/2f/86/cfcd71edca9d25d3d331209a20f6314b6f3f134c29478f90559cee9ce091/python_crfsuite-0.9.6-cp36-cp36m-manylinux1_x86_64.whl (754kB)\n",
            "\u001b[K    100% |████████████████████████████████| 757kB 20.9MB/s \n",
            "\u001b[?25hRequirement already satisfied: tqdm>=2.0 in /usr/local/lib/python3.6/dist-packages (from sklearn-crfsuite) (4.28.1)\n",
            "Requirement already satisfied: tabulate in /usr/local/lib/python3.6/dist-packages (from sklearn-crfsuite) (0.8.3)\n",
            "Requirement already satisfied: six in /usr/local/lib/python3.6/dist-packages (from sklearn-crfsuite) (1.12.0)\n",
            "Installing collected packages: python-crfsuite, sklearn-crfsuite\n",
            "Successfully installed python-crfsuite-0.9.6 sklearn-crfsuite-0.3.6\n"
          ],
          "name": "stdout"
        }
      ]
    },
    {
      "metadata": {
        "id": "0plVegXcK07r",
        "colab_type": "code",
        "colab": {}
      },
      "cell_type": "code",
      "source": [
        "from sklearn_crfsuite import CRF\n",
        "from sklearn.model_selection import cross_val_predict\n",
        "from sklearn_crfsuite.metrics import flat_classification_report\n",
        "import pandas as pd\n",
        "import numpy as np"
      ],
      "execution_count": 0,
      "outputs": []
    },
    {
      "metadata": {
        "id": "gb9oAGSZ_d5_",
        "colab_type": "code",
        "colab": {
          "base_uri": "https://localhost:8080/",
          "height": 52
        },
        "outputId": "e277821d-a4d6-456e-aae4-967c81a002ed"
      },
      "cell_type": "code",
      "source": [
        "!pip install -U -q PyDrive\n",
        "from pydrive.auth import GoogleAuth\n",
        "from pydrive.drive import GoogleDrive\n",
        "from google.colab import auth\n",
        "from oauth2client.client import GoogleCredentials"
      ],
      "execution_count": 7,
      "outputs": [
        {
          "output_type": "stream",
          "text": [
            "\u001b[?25l\r\u001b[K    1% |▎                               | 10kB 15.3MB/s eta 0:00:01\r\u001b[K    2% |▋                               | 20kB 1.8MB/s eta 0:00:01\r\u001b[K    3% |█                               | 30kB 2.6MB/s eta 0:00:01\r\u001b[K    4% |█▎                              | 40kB 1.7MB/s eta 0:00:01\r\u001b[K    5% |█▋                              | 51kB 2.1MB/s eta 0:00:01\r\u001b[K    6% |██                              | 61kB 2.5MB/s eta 0:00:01\r\u001b[K    7% |██▎                             | 71kB 2.9MB/s eta 0:00:01\r\u001b[K    8% |██▋                             | 81kB 3.3MB/s eta 0:00:01\r\u001b[K    9% |███                             | 92kB 3.6MB/s eta 0:00:01\r\u001b[K    10% |███▎                            | 102kB 2.8MB/s eta 0:00:01\r\u001b[K    11% |███▋                            | 112kB 2.8MB/s eta 0:00:01\r\u001b[K    12% |████                            | 122kB 4.0MB/s eta 0:00:01\r\u001b[K    13% |████▎                           | 133kB 4.0MB/s eta 0:00:01\r\u001b[K    14% |████▋                           | 143kB 7.4MB/s eta 0:00:01\r\u001b[K    15% |█████                           | 153kB 7.5MB/s eta 0:00:01\r\u001b[K    16% |█████▎                          | 163kB 7.5MB/s eta 0:00:01\r\u001b[K    17% |█████▋                          | 174kB 7.6MB/s eta 0:00:01\r\u001b[K    18% |██████                          | 184kB 7.6MB/s eta 0:00:01\r\u001b[K    19% |██████▎                         | 194kB 7.6MB/s eta 0:00:01\r\u001b[K    20% |██████▋                         | 204kB 36.9MB/s eta 0:00:01\r\u001b[K    21% |███████                         | 215kB 8.5MB/s eta 0:00:01\r\u001b[K    22% |███████▎                        | 225kB 8.3MB/s eta 0:00:01\r\u001b[K    23% |███████▋                        | 235kB 8.4MB/s eta 0:00:01\r\u001b[K    24% |████████                        | 245kB 8.5MB/s eta 0:00:01\r\u001b[K    25% |████████▎                       | 256kB 8.5MB/s eta 0:00:01\r\u001b[K    26% |████████▋                       | 266kB 8.2MB/s eta 0:00:01\r\u001b[K    27% |█████████                       | 276kB 8.3MB/s eta 0:00:01\r\u001b[K    29% |█████████▎                      | 286kB 8.3MB/s eta 0:00:01\r\u001b[K    30% |█████████▋                      | 296kB 8.3MB/s eta 0:00:01\r\u001b[K    31% |██████████                      | 307kB 8.6MB/s eta 0:00:01\r\u001b[K    32% |██████████▎                     | 317kB 44.4MB/s eta 0:00:01\r\u001b[K    33% |██████████▋                     | 327kB 48.4MB/s eta 0:00:01\r\u001b[K    34% |███████████                     | 337kB 49.2MB/s eta 0:00:01\r\u001b[K    35% |███████████▎                    | 348kB 43.8MB/s eta 0:00:01\r\u001b[K    36% |███████████▋                    | 358kB 43.1MB/s eta 0:00:01\r\u001b[K    37% |████████████                    | 368kB 51.2MB/s eta 0:00:01\r\u001b[K    38% |████████████▎                   | 378kB 51.6MB/s eta 0:00:01\r\u001b[K    39% |████████████▋                   | 389kB 52.4MB/s eta 0:00:01\r\u001b[K    40% |█████████████                   | 399kB 9.7MB/s eta 0:00:01\r\u001b[K    41% |█████████████▎                  | 409kB 9.5MB/s eta 0:00:01\r\u001b[K    42% |█████████████▋                  | 419kB 9.4MB/s eta 0:00:01\r\u001b[K    43% |██████████████                  | 430kB 9.3MB/s eta 0:00:01\r\u001b[K    44% |██████████████▎                 | 440kB 9.3MB/s eta 0:00:01\r\u001b[K    45% |██████████████▋                 | 450kB 9.2MB/s eta 0:00:01\r\u001b[K    46% |███████████████                 | 460kB 9.2MB/s eta 0:00:01\r\u001b[K    47% |███████████████▎                | 471kB 9.1MB/s eta 0:00:01\r\u001b[K    48% |███████████████▋                | 481kB 9.1MB/s eta 0:00:01\r\u001b[K    49% |████████████████                | 491kB 9.0MB/s eta 0:00:01\r\u001b[K    50% |████████████████▎               | 501kB 37.8MB/s eta 0:00:01\r\u001b[K    51% |████████████████▋               | 512kB 37.2MB/s eta 0:00:01\r\u001b[K    52% |█████████████████               | 522kB 38.4MB/s eta 0:00:01\r\u001b[K    53% |█████████████████▎              | 532kB 40.5MB/s eta 0:00:01\r\u001b[K    54% |█████████████████▋              | 542kB 8.9MB/s eta 0:00:01\r\u001b[K    55% |██████████████████              | 552kB 9.1MB/s eta 0:00:01\r\u001b[K    57% |██████████████████▎             | 563kB 9.2MB/s eta 0:00:01\r\u001b[K    58% |██████████████████▋             | 573kB 9.2MB/s eta 0:00:01\r\u001b[K    59% |███████████████████             | 583kB 9.1MB/s eta 0:00:01\r\u001b[K    60% |███████████████████▎            | 593kB 9.1MB/s eta 0:00:01\r\u001b[K    61% |███████████████████▋            | 604kB 9.0MB/s eta 0:00:01\r\u001b[K    62% |████████████████████            | 614kB 9.2MB/s eta 0:00:01\r\u001b[K    63% |████████████████████▎           | 624kB 9.1MB/s eta 0:00:01\r\u001b[K    64% |████████████████████▋           | 634kB 9.2MB/s eta 0:00:01\r\u001b[K    65% |█████████████████████           | 645kB 46.5MB/s eta 0:00:01\r\u001b[K    66% |█████████████████████▎          | 655kB 49.5MB/s eta 0:00:01\r\u001b[K    67% |█████████████████████▋          | 665kB 39.7MB/s eta 0:00:01\r\u001b[K    68% |██████████████████████          | 675kB 40.3MB/s eta 0:00:01\r\u001b[K    69% |██████████████████████▎         | 686kB 42.8MB/s eta 0:00:01\r\u001b[K    70% |██████████████████████▋         | 696kB 44.6MB/s eta 0:00:01\r\u001b[K    71% |███████████████████████         | 706kB 47.5MB/s eta 0:00:01\r\u001b[K    72% |███████████████████████▎        | 716kB 48.2MB/s eta 0:00:01\r\u001b[K    73% |███████████████████████▋        | 727kB 48.0MB/s eta 0:00:01\r\u001b[K    74% |████████████████████████        | 737kB 46.4MB/s eta 0:00:01\r\u001b[K    75% |████████████████████████▎       | 747kB 46.7MB/s eta 0:00:01\r\u001b[K    76% |████████████████████████▋       | 757kB 46.2MB/s eta 0:00:01\r\u001b[K    77% |████████████████████████▉       | 768kB 63.1MB/s eta 0:00:01\r\u001b[K    78% |█████████████████████████▏      | 778kB 63.4MB/s eta 0:00:01\r\u001b[K    79% |█████████████████████████▌      | 788kB 60.8MB/s eta 0:00:01\r\u001b[K    80% |█████████████████████████▉      | 798kB 59.6MB/s eta 0:00:01\r\u001b[K    81% |██████████████████████████▏     | 808kB 59.2MB/s eta 0:00:01\r\u001b[K    82% |██████████████████████████▌     | 819kB 58.3MB/s eta 0:00:01\r\u001b[K    83% |██████████████████████████▉     | 829kB 59.0MB/s eta 0:00:01\r\u001b[K    85% |███████████████████████████▏    | 839kB 60.7MB/s eta 0:00:01\r\u001b[K    86% |███████████████████████████▌    | 849kB 59.8MB/s eta 0:00:01\r\u001b[K    87% |███████████████████████████▉    | 860kB 48.6MB/s eta 0:00:01\r\u001b[K    88% |████████████████████████████▏   | 870kB 47.6MB/s eta 0:00:01\r\u001b[K    89% |████████████████████████████▌   | 880kB 48.2MB/s eta 0:00:01\r\u001b[K    90% |████████████████████████████▉   | 890kB 48.8MB/s eta 0:00:01\r\u001b[K    91% |█████████████████████████████▏  | 901kB 49.2MB/s eta 0:00:01\r\u001b[K    92% |█████████████████████████████▌  | 911kB 49.5MB/s eta 0:00:01\r\u001b[K    93% |█████████████████████████████▉  | 921kB 49.9MB/s eta 0:00:01\r\u001b[K    94% |██████████████████████████████▏ | 931kB 50.1MB/s eta 0:00:01\r\u001b[K    95% |██████████████████████████████▌ | 942kB 50.2MB/s eta 0:00:01\r\u001b[K    96% |██████████████████████████████▉ | 952kB 49.5MB/s eta 0:00:01\r\u001b[K    97% |███████████████████████████████▏| 962kB 61.3MB/s eta 0:00:01\r\u001b[K    98% |███████████████████████████████▌| 972kB 61.8MB/s eta 0:00:01\r\u001b[K    99% |███████████████████████████████▉| 983kB 61.4MB/s eta 0:00:01\r\u001b[K    100% |████████████████████████████████| 993kB 18.6MB/s \n",
            "\u001b[?25h  Building wheel for PyDrive (setup.py) ... \u001b[?25ldone\n",
            "\u001b[?25h"
          ],
          "name": "stdout"
        }
      ]
    },
    {
      "metadata": {
        "id": "-xILo7mS_jzq",
        "colab_type": "code",
        "colab": {}
      },
      "cell_type": "code",
      "source": [
        "auth.authenticate_user()\n",
        "gauth = GoogleAuth()\n",
        "gauth.credentials = GoogleCredentials.get_application_default()\n",
        "drive = GoogleDrive(gauth)"
      ],
      "execution_count": 0,
      "outputs": []
    },
    {
      "metadata": {
        "id": "V289vH7M_mdb",
        "colab_type": "code",
        "colab": {}
      },
      "cell_type": "code",
      "source": [
        "link = 'https://drive.google.com/open?id=1RlXPcm035izLrJypwPlGITo2L2RoO6oz'\n",
        "\n",
        "fluff, id = link.split('=')\n",
        "\n",
        "downloaded = drive.CreateFile({'id':id})\n",
        "\n",
        "downloaded.GetContentFile('ner_dataset.csv')\n",
        "\n",
        "df = pd.read_csv(\"ner_dataset.csv\", encoding = \"ISO-8859-1\")"
      ],
      "execution_count": 0,
      "outputs": []
    },
    {
      "metadata": {
        "id": "kGQwIhkh_uRs",
        "colab_type": "code",
        "colab": {}
      },
      "cell_type": "code",
      "source": [
        "data = df.fillna(method=\"ffill\")"
      ],
      "execution_count": 0,
      "outputs": []
    },
    {
      "metadata": {
        "id": "rUq75TUc_xqV",
        "colab_type": "code",
        "colab": {}
      },
      "cell_type": "code",
      "source": [
        "\n",
        "words = list(set(df[\"Word\"].values))"
      ],
      "execution_count": 0,
      "outputs": []
    },
    {
      "metadata": {
        "id": "TZW0TBlh8aN3",
        "colab_type": "code",
        "colab": {}
      },
      "cell_type": "code",
      "source": [
        "class SentenceGetter(object):\n",
        "    \n",
        "    def __init__(self, data):\n",
        "        self.n_sent = 1\n",
        "        self.data = data\n",
        "        self.empty = False\n",
        "        agg_func = lambda s: [(w, p, t) for w, p, t in zip(s[\"Word\"].values.tolist(),\n",
        "                                                           s[\"POS\"].values.tolist(),\n",
        "                                                           s[\"Tag\"].values.tolist())]\n",
        "        self.grouped = self.data.groupby(\"Sentence #\").apply(agg_func)\n",
        "        self.sentences = [s for s in self.grouped]\n",
        "    \n",
        "    def get_next(self):\n",
        "        try:\n",
        "            s = self.grouped[\"Sentence: {}\".format(self.n_sent)]\n",
        "            self.n_sent += 1\n",
        "            return s\n",
        "        except:\n",
        "            return None"
      ],
      "execution_count": 0,
      "outputs": []
    },
    {
      "metadata": {
        "id": "zYDPIo5D8cG1",
        "colab_type": "code",
        "colab": {}
      },
      "cell_type": "code",
      "source": [
        "getter = SentenceGetter(data)"
      ],
      "execution_count": 0,
      "outputs": []
    },
    {
      "metadata": {
        "id": "NL-Tlc6-982u",
        "colab_type": "code",
        "colab": {}
      },
      "cell_type": "code",
      "source": [
        "sent = getter.get_next()"
      ],
      "execution_count": 0,
      "outputs": []
    },
    {
      "metadata": {
        "id": "Vegkrdy--E9M",
        "colab_type": "code",
        "colab": {}
      },
      "cell_type": "code",
      "source": [
        "sentences = getter.sentences"
      ],
      "execution_count": 0,
      "outputs": []
    },
    {
      "metadata": {
        "id": "j3mX-Rqd-alv",
        "colab_type": "code",
        "colab": {}
      },
      "cell_type": "code",
      "source": [
        "def word2features(sent, i):\n",
        "    word = sent[i][0]\n",
        "    postag = sent[i][1]\n",
        "\n",
        "    features = {\n",
        "        'bias': 1.0,\n",
        "        'word.lower()': word.lower(),\n",
        "        'word[-3:]': word[-3:],\n",
        "        'word[-2:]': word[-2:],\n",
        "        'word.isupper()': word.isupper(),\n",
        "        'word.istitle()': word.istitle(),\n",
        "        'word.isdigit()': word.isdigit(),\n",
        "        'postag': postag,\n",
        "        'postag[:2]': postag[:2],\n",
        "    }\n",
        "    if i > 0:\n",
        "        word1 = sent[i-1][0]\n",
        "        postag1 = sent[i-1][1]\n",
        "        features.update({\n",
        "            '-1:word.lower()': word1.lower(),\n",
        "            '-1:word.istitle()': word1.istitle(),\n",
        "            '-1:word.isupper()': word1.isupper(),\n",
        "            '-1:postag': postag1,\n",
        "            '-1:postag[:2]': postag1[:2],\n",
        "        })\n",
        "    else:\n",
        "        features['BOS'] = True\n",
        "\n",
        "    if i < len(sent)-1:\n",
        "        word1 = sent[i+1][0]\n",
        "        postag1 = sent[i+1][1]\n",
        "        features.update({\n",
        "            '+1:word.lower()': word1.lower(),\n",
        "            '+1:word.istitle()': word1.istitle(),\n",
        "            '+1:word.isupper()': word1.isupper(),\n",
        "            '+1:postag': postag1,\n",
        "            '+1:postag[:2]': postag1[:2],\n",
        "        })\n",
        "    else:\n",
        "        features['EOS'] = True\n",
        "\n",
        "    return features\n",
        "\n",
        "\n",
        "def sent2features(sent):\n",
        "    return [word2features(sent, i) for i in range(len(sent))]\n",
        "\n",
        "def sent2labels(sent):\n",
        "      return [label for token, postag, label in sent]\n",
        "\n",
        "def sent2tokens(sent):\n",
        "    return [token for token, postag, label in sent]"
      ],
      "execution_count": 0,
      "outputs": []
    },
    {
      "metadata": {
        "id": "utgF8ynY-cBI",
        "colab_type": "code",
        "colab": {}
      },
      "cell_type": "code",
      "source": [
        "X = [sent2features(s) for s in sentences]\n",
        "y = [sent2labels(s) for s in sentences]"
      ],
      "execution_count": 0,
      "outputs": []
    },
    {
      "metadata": {
        "id": "vv8gxESODsb-",
        "colab_type": "code",
        "colab": {}
      },
      "cell_type": "code",
      "source": [
        "crf = CRF(algorithm='lbfgs',\n",
        "          c1=0.1,\n",
        "          c2=0.1,\n",
        "          max_iterations=100,\n",
        "          all_possible_transitions=True)"
      ],
      "execution_count": 0,
      "outputs": []
    },
    {
      "metadata": {
        "id": "MULm5jPGKiaS",
        "colab_type": "code",
        "colab": {}
      },
      "cell_type": "code",
      "source": [
        "pred = cross_val_predict(estimator=crf, X=X, y=y, cv=5)"
      ],
      "execution_count": 0,
      "outputs": []
    },
    {
      "metadata": {
        "id": "wZhoOvt8LnOT",
        "colab_type": "code",
        "colab": {}
      },
      "cell_type": "code",
      "source": [
        "report = flat_classification_report(y_pred=pred, y_true=y)\n"
      ],
      "execution_count": 0,
      "outputs": []
    },
    {
      "metadata": {
        "id": "l8ybaDS_sAyb",
        "colab_type": "code",
        "colab": {
          "base_uri": "https://localhost:8080/",
          "height": 173
        },
        "outputId": "1759615a-b8b5-435d-8bae-ee74afd0d775"
      },
      "cell_type": "code",
      "source": [
        "crf.fit(X, y)"
      ],
      "execution_count": 22,
      "outputs": [
        {
          "output_type": "execute_result",
          "data": {
            "text/plain": [
              "CRF(algorithm='lbfgs', all_possible_states=None,\n",
              "  all_possible_transitions=True, averaging=None, c=None, c1=0.1, c2=0.1,\n",
              "  calibration_candidates=None, calibration_eta=None,\n",
              "  calibration_max_trials=None, calibration_rate=None,\n",
              "  calibration_samples=None, delta=None, epsilon=None, error_sensitive=None,\n",
              "  gamma=None, keep_tempfiles=None, linesearch=None, max_iterations=100,\n",
              "  max_linesearch=None, min_freq=None, model_filename=None,\n",
              "  num_memories=None, pa_type=None, period=None, trainer_cls=None,\n",
              "  variance=None, verbose=False)"
            ]
          },
          "metadata": {
            "tags": []
          },
          "execution_count": 22
        }
      ]
    },
    {
      "metadata": {
        "id": "V5weEdmBTnfi",
        "colab_type": "code",
        "colab": {}
      },
      "cell_type": "code",
      "source": [
        "import spacy\n",
        "import en_core_web_sm\n",
        "nlp = en_core_web_sm.load()\n",
        "def pos_tagger(sent):\n",
        "  doc = nlp(sent)\n",
        "  sent_list = []\n",
        "  for token in doc:\n",
        "    sent_list.append((token.text, token.tag_))\n",
        "  return sent_list"
      ],
      "execution_count": 0,
      "outputs": []
    },
    {
      "metadata": {
        "id": "lnLjyytgVBXS",
        "colab_type": "code",
        "colab": {
          "base_uri": "https://localhost:8080/",
          "height": 434
        },
        "outputId": "9fe84b4d-ecf4-4c01-e4ab-e018a561c689"
      },
      "cell_type": "code",
      "source": [
        "print(report)"
      ],
      "execution_count": 24,
      "outputs": [
        {
          "output_type": "stream",
          "text": [
            "              precision    recall  f1-score   support\n",
            "\n",
            "       B-art       0.35      0.11      0.16       402\n",
            "       B-eve       0.51      0.35      0.41       308\n",
            "       B-geo       0.86      0.90      0.88     37644\n",
            "       B-gpe       0.97      0.94      0.95     15870\n",
            "       B-nat       0.65      0.37      0.47       201\n",
            "       B-org       0.78      0.72      0.75     20143\n",
            "       B-per       0.84      0.81      0.82     16990\n",
            "       B-tim       0.93      0.88      0.90     20333\n",
            "       I-art       0.11      0.03      0.04       297\n",
            "       I-eve       0.34      0.21      0.26       253\n",
            "       I-geo       0.81      0.80      0.80      7414\n",
            "       I-gpe       0.92      0.54      0.68       198\n",
            "       I-nat       0.56      0.27      0.37        51\n",
            "       I-org       0.80      0.79      0.80     16784\n",
            "       I-per       0.84      0.89      0.87     17251\n",
            "       I-tim       0.84      0.77      0.80      6528\n",
            "           O       0.99      0.99      0.99    887908\n",
            "\n",
            "   micro avg       0.97      0.97      0.97   1048575\n",
            "   macro avg       0.71      0.61      0.65   1048575\n",
            "weighted avg       0.97      0.97      0.97   1048575\n",
            "\n"
          ],
          "name": "stdout"
        }
      ]
    },
    {
      "metadata": {
        "id": "_8I6-tWRhE7Q",
        "colab_type": "code",
        "outputId": "7f40b397-703a-4517-9320-85dd4b048927",
        "colab": {
          "base_uri": "https://localhost:8080/",
          "height": 34
        }
      },
      "cell_type": "code",
      "source": [
        "crf.score(X, y)"
      ],
      "execution_count": 25,
      "outputs": [
        {
          "output_type": "execute_result",
          "data": {
            "text/plain": [
              "0.9865226617075555"
            ]
          },
          "metadata": {
            "tags": []
          },
          "execution_count": 25
        }
      ]
    },
    {
      "metadata": {
        "id": "dI2h6xu3iWS8",
        "colab_type": "code",
        "outputId": "f12db7f3-6007-446d-b6fb-514e93997008",
        "colab": {
          "base_uri": "https://localhost:8080/",
          "height": 34
        }
      },
      "cell_type": "code",
      "source": [
        "x=crf.predict_single(sent2features(pos_tagger(\"Jim bought 300 shares of Acme Corp. in 2006\")))\n",
        "print(pos_tagger(\"Jim bought 300 shares of Acme Corp. in 2006\"))"
      ],
      "execution_count": 37,
      "outputs": [
        {
          "output_type": "stream",
          "text": [
            "[('Jim', 'NNP'), ('bought', 'VBD'), ('300', 'CD'), ('shares', 'NNS'), ('of', 'IN'), ('Acme', 'NNP'), ('Corp.', 'NNP'), ('in', 'IN'), ('2006', 'CD')]\n"
          ],
          "name": "stdout"
        }
      ]
    },
    {
      "metadata": {
        "id": "I_YrWa_xmv0Y",
        "colab_type": "code",
        "colab": {}
      },
      "cell_type": "code",
      "source": [
        ""
      ],
      "execution_count": 0,
      "outputs": []
    }
  ]
}